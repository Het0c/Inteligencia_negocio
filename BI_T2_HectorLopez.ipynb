{
 "cells": [
  {
   "cell_type": "markdown",
   "id": "6bee3ad6",
   "metadata": {},
   "source": [
    "# Objetivos\n",
    "\n",
    "General:\n",
    "Identificar los factores clave que determinan el éxito financiero de videojuegos mediante análisis predictivo para apoyar decisiones de negocio en la industria gaming.\n",
    "\n",
    "\n"
   ]
  },
  {
   "cell_type": "markdown",
   "id": "7b6281ec",
   "metadata": {},
   "source": [
    "Específicos:  \n",
    "\n",
    "\n",
    "\n",
    "Predecir los ingresos generados por un videojuego en función de métricas de uso y engagement (Regresión Lineal Múltiple).\n",
    "\n",
    "Clasificar la efectividad de promociones con influencers según actividad en redes sociales y plataformas de streaming (Random Forest).\n",
    "\n",
    "Segmentar videojuegos en grupos homogéneos según patrones de comportamiento de usuarios (K-Means).\n"
   ]
  },
  {
   "cell_type": "markdown",
   "id": "1396d6a6",
   "metadata": {},
   "source": [
    "Hipótesis de Regresión: Existe una relación lineal positiva entre la duración promedio de sesión, las compras en el juego y los ingresos totales (p<0.05).\n",
    "\n",
    "Hipótesis de Clasificación: Los juegos con menciones en redes sociales por encima del percentil 75 tienen mayor probabilidad de éxito en promociones con influencers (F1>0.85).\n",
    "\n",
    "Hipótesis de Clustering: Los videojuegos se agrupan naturalmente en 3 clusters diferenciados por intensidad de uso (DAU) y monetización (Ingresos/Usuario).\n"
   ]
  },
  {
   "cell_type": "code",
   "execution_count": null,
   "id": "6c47eb95",
   "metadata": {},
   "outputs": [],
   "source": [
    "# Importar librerías necesarias\n",
    "import pandas as pd\n",
    "import numpy as np\n",
    "import matplotlib.pyplot as plt\n",
    "import seaborn as sns\n",
    "from scipy import stats\n",
    "from sklearn.linear_model import LinearRegression\n",
    "\n",
    "# Estilo de gráficos\n",
    "plt.style.use('seaborn-v0_8')"
   ]
  },
  {
   "cell_type": "code",
   "execution_count": null,
   "id": "34f2f484",
   "metadata": {},
   "outputs": [],
   "source": [
    "# Cargar el dataset\n",
    "df = pd.read_csv('Gaming-Trends-2024.csv')\n",
    "df.head()"
   ]
  },
  {
   "cell_type": "code",
   "execution_count": null,
   "id": "eab2912a",
   "metadata": {},
   "outputs": [],
   "source": []
  }
 ],
 "metadata": {
  "language_info": {
   "name": "python"
  }
 },
 "nbformat": 4,
 "nbformat_minor": 5
}
